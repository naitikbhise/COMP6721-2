{
 "cells": [
  {
   "cell_type": "code",
   "execution_count": 1,
   "metadata": {},
   "outputs": [],
   "source": [
    "import sklearn\n",
    "import nltk\n",
    "\n",
    "from generateWordFrequency import *\n",
    "from naiveBayes import *\n",
    "from fileWriteFunctions import *"
   ]
  },
  {
   "cell_type": "code",
   "execution_count": 2,
   "metadata": {},
   "outputs": [],
   "source": [
    "df_2018 = getDataframe(2018)\n",
    "df_2018 = addTokenizedColumnofTitle(df_2018,None,True)\n",
    "AllClasses = list(np.unique(df_2018['Post Type']))\n",
    "AllClasses = ['story', 'ask_hn', 'show_hn', 'poll']\n",
    "delta = 0.5\n",
    "appendClassPrefix = 'prob_'\n",
    "priorProbabilities = getPriorProbabilities(df_2018)\n",
    "words_2018 = getWordFrequencyDataframe(df_2018,AllClasses)\n",
    "totalNumberOfWords = getTotalWordCount(words_2018)\n",
    "words_2018 = obtainDataframeWithClassProbabilities(words_2018, AllClasses, delta, appendClassPrefix)\n",
    "writeModel(words_2018,'wordlength-model.txt',AllClasses,appendClassPrefix)\n",
    "words_2018 = renameModelRows(words_2018, AllClasses, appendClassPrefix)\n",
    "model = [words_2018, priorProbabilities]"
   ]
  },
  {
   "cell_type": "code",
   "execution_count": 3,
   "metadata": {},
   "outputs": [
    {
     "name": "stdout",
     "output_type": "stream",
     "text": [
      "0.9643697846445359\n",
      "predicted  ask_hn  poll  show_hn   story\n",
      "Post Type                               \n",
      "ask_hn       5089     0        3     362\n",
      "poll            1     0        0       5\n",
      "show_hn        34     0     4102     767\n",
      "story        1936     0     1778  123135\n",
      "predicted  ask_hn  poll  show_hn   story  precision    recall  F1_score\n",
      "Post Type                                                              \n",
      "ask_hn       5089     0        3     362   0.720822  0.933077  0.813329\n",
      "poll            1     0        0       5   0.000000  0.000000  0.000000\n",
      "show_hn        34     0     4102     767   0.697263  0.836631  0.760616\n",
      "story        1936     0     1778  123135   0.990875  0.970721  0.980694\n"
     ]
    },
    {
     "name": "stderr",
     "output_type": "stream",
     "text": [
      "/home/paras/anaconda3/envs/cu/lib/python3.6/site-packages/ipykernel_launcher.py:23: SettingWithCopyWarning: \n",
      "A value is trying to be set on a copy of a slice from a DataFrame\n",
      "\n",
      "See the caveats in the documentation: http://pandas.pydata.org/pandas-docs/stable/user_guide/indexing.html#returning-a-view-versus-a-copy\n",
      "/home/paras/anaconda3/envs/cu/lib/python3.6/site-packages/ipykernel_launcher.py:24: SettingWithCopyWarning: \n",
      "A value is trying to be set on a copy of a slice from a DataFrame\n",
      "\n",
      "See the caveats in the documentation: http://pandas.pydata.org/pandas-docs/stable/user_guide/indexing.html#returning-a-view-versus-a-copy\n"
     ]
    }
   ],
   "source": [
    "testData = getDataframe(2019)\n",
    "testData = addTokenizedColumnofTitle(testData)\n",
    "testData = testData.reset_index()\n",
    "testData = generateCondClassProb(testData, model)\n",
    "testData['predicted'] = generatePrediction(testData,AllClasses)\n",
    "testResults = comparePredictions(testData,AllClasses)\n",
    "writeDataframe(testResults,'wordlength-result.txt')\n",
    "check = testResults.comparision.value_counts()\n",
    "accuracy = check[True]/(check[True]+check[False])\n",
    "print(accuracy)\n",
    "df_confusion = pd.crosstab(testResults['Post Type'], testResults['predicted'])\n",
    "df_confusion['poll'] = 0\n",
    "print(df_confusion)\n",
    "df_confusion['precision'] = 0.0\n",
    "df_confusion['recall'] = 0.0\n",
    "#df['F1_score'] = 0.0\n",
    "transpose_matrix = df_confusion.transpose()\n",
    "for i in transpose_matrix.columns:\n",
    "    if np.sum(df_confusion[i])==0:\n",
    "        total = 1\n",
    "    else:\n",
    "        total = np.sum(df_confusion[i])\n",
    "    df_confusion['precision'][i] = df_confusion[i][i]/total\n",
    "    df_confusion['recall'][i] = df_confusion[i][i]/np.sum(transpose_matrix[i])\n",
    "df_confusion['F1_score'] = 2/(1/df_confusion['precision']+1/df_confusion['recall'])\n",
    "print(df_confusion)"
   ]
  }
 ],
 "metadata": {
  "kernelspec": {
   "display_name": "Python 3",
   "language": "python",
   "name": "python3"
  },
  "language_info": {
   "codemirror_mode": {
    "name": "ipython",
    "version": 3
   },
   "file_extension": ".py",
   "mimetype": "text/x-python",
   "name": "python",
   "nbconvert_exporter": "python",
   "pygments_lexer": "ipython3",
   "version": "3.6.9"
  }
 },
 "nbformat": 4,
 "nbformat_minor": 4
}
