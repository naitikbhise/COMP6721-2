{
 "cells": [
  {
   "cell_type": "code",
   "execution_count": null,
   "metadata": {},
   "outputs": [],
   "source": [
    "import sklearn\n",
    "import nltk\n",
    "\n",
    "from generateWordFrequency import *\n",
    "from naiveBayes import *\n",
    "from fileWriteFunctions import *"
   ]
  },
  {
   "cell_type": "code",
   "execution_count": null,
   "metadata": {},
   "outputs": [],
   "source": [
    "AllClasses = ['story', 'ask_hn', 'show_hn', 'poll']\n",
    "delta = 0.5\n",
    "appendClassPrefix = 'prob_'"
   ]
  },
  {
   "cell_type": "code",
   "execution_count": null,
   "metadata": {},
   "outputs": [],
   "source": [
    "unfilteredTrainData = getDataframe(2018)\n",
    "unfilteredTrainData = addTokenizedColumnofTitle(unfilteredTrainData)"
   ]
  },
  {
   "cell_type": "code",
   "execution_count": null,
   "metadata": {},
   "outputs": [],
   "source": [
    "unfilteredTestData = getDataframe(2019)\n",
    "unfilteredTestData = addTokenizedColumnofTitle(unfilteredTestData)\n",
    "unfilteredTestData = unfilteredTestData.reset_index()"
   ]
  },
  {
   "cell_type": "code",
   "execution_count": null,
   "metadata": {},
   "outputs": [],
   "source": [
    "trainData = unfilteredTrainData.copy()\n",
    "testData = unfilteredTestData.copy()\n",
    "\n",
    "trainWords = getWordFrequencyDataframe(trainData,AllClasses)\n",
    "priorProbabilities = getPriorProbabilities(trainData) \n",
    "\n",
    "trainWords = getWordFrequencyDataframe(trainData,AllClasses)\n",
    "trainWords = obtainDataframeWithClassProbabilities(trainWords, AllClasses, delta, appendClassPrefix)\n",
    "writeModel(trainWords,'model-2018.txt',AllClasses,appendClassPrefix)\n",
    "trainWords = renameModelRows(trainWords, AllClasses, appendClassPrefix)\n",
    "model = [trainWords, priorProbabilities]\n",
    "\n",
    "testData = generateCondClassProb(testData, model)\n",
    "testData['predicted'] = generatePrediction(testData,AllClasses)\n",
    "testResults = comparePredictions(testData,AllClasses)\n",
    "writeDataframe(testResults,'baseline-result.txt')\n",
    "check = testResults.comparision.value_counts()\n",
    "accuracy = check[True]/(check[True]+check[False])"
   ]
  },
  {
   "cell_type": "code",
   "execution_count": null,
   "metadata": {},
   "outputs": [],
   "source": [
    "print(accuracy)\n",
    "df_confusion = pd.crosstab(testResults['Post Type'], testResults['predicted'])\n",
    "print(df_confusion)"
   ]
  },
  {
   "cell_type": "code",
   "execution_count": null,
   "metadata": {},
   "outputs": [],
   "source": [
    "df_confusion = pd.crosstab(testResults['Post Type'], testResults['predicted'])\n",
    "df_confusion['poll'] = 0\n",
    "df_confusion['precision'] = 0.0\n",
    "df_confusion['recall'] = 0.0\n",
    "#df['F1_score'] = 0.0\n",
    "transpose_matrix = df_confusion.transpose()\n",
    "for i in transpose_matrix.columns:\n",
    "    if np.sum(df_confusion[i])==0:\n",
    "        total = 1\n",
    "    else:\n",
    "        total = np.sum(df_confusion[i])\n",
    "    df_confusion['precision'][i] = df_confusion[i][i]/total\n",
    "    df_confusion['recall'][i] = df_confusion[i][i]/np.sum(transpose_matrix[i])\n",
    "df_confusion['F1_score'] = 2/(1/df_confusion['precision']+1/df_confusion['recall'])\n",
    "print(df_confusion)"
   ]
  }
 ],
 "metadata": {
  "kernelspec": {
   "display_name": "Python 3",
   "language": "python",
   "name": "python3"
  },
  "language_info": {
   "codemirror_mode": {
    "name": "ipython",
    "version": 3
   },
   "file_extension": ".py",
   "mimetype": "text/x-python",
   "name": "python",
   "nbconvert_exporter": "python",
   "pygments_lexer": "ipython3",
   "version": "3.7.4"
  }
 },
 "nbformat": 4,
 "nbformat_minor": 4
}
