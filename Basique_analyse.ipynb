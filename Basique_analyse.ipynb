{
 "cells": [
  {
   "cell_type": "code",
   "execution_count": 1,
   "metadata": {},
   "outputs": [],
   "source": [
    "import sklearn\n",
    "import nltk\n",
    "\n",
    "from generateWordFrequency import *\n",
    "from naiveBayes import *\n",
    "from fileWriteFunctions import *"
   ]
  },
  {
   "cell_type": "code",
   "execution_count": 2,
   "metadata": {},
   "outputs": [],
   "source": [
    "AllClasses = ['story', 'ask_hn', 'show_hn', 'poll']\n",
    "delta = 0.5\n",
    "appendClassPrefix = 'prob_'"
   ]
  },
  {
   "cell_type": "code",
   "execution_count": 3,
   "metadata": {},
   "outputs": [],
   "source": [
    "unfilteredTrainData = getDataframe(2018)\n",
    "unfilteredTrainData = addTokenizedColumnofTitle(unfilteredTrainData)"
   ]
  },
  {
   "cell_type": "code",
   "execution_count": 4,
   "metadata": {},
   "outputs": [],
   "source": [
    "unfilteredTestData = getDataframe(2019)\n",
    "unfilteredTestData = addTokenizedColumnofTitle(unfilteredTestData)\n",
    "unfilteredTestData = unfilteredTestData.reset_index()"
   ]
  },
  {
   "cell_type": "code",
   "execution_count": 5,
   "metadata": {},
   "outputs": [],
   "source": [
    "trainData = unfilteredTrainData.copy()\n",
    "testData = unfilteredTestData.copy()\n",
    "\n",
    "trainWords = getWordFrequencyDataframe(trainData,AllClasses)\n",
    "priorProbabilities = getPriorProbabilities(trainData) \n",
    "\n",
    "trainWords = getWordFrequencyDataframe(trainData,AllClasses)\n",
    "trainWords = obtainDataframeWithClassProbabilities(trainWords, AllClasses, delta, appendClassPrefix)\n",
    "writeModel(trainWords,'model-2018.txt',AllClasses,appendClassPrefix)\n",
    "trainWords = renameModelRows(trainWords, AllClasses, appendClassPrefix)\n",
    "model = [trainWords, priorProbabilities]\n",
    "\n",
    "testData = generateCondClassProb(testData, model)\n",
    "testData['predicted'] = generatePrediction(testData,AllClasses)\n",
    "testResults = comparePredictions(testData,AllClasses)\n",
    "writeDataframe(testResults,'baseline-result.txt')\n",
    "check = testResults.comparision.value_counts()\n",
    "accuracy = check[True]/(check[True]+check[False])"
   ]
  },
  {
   "cell_type": "code",
   "execution_count": 6,
   "metadata": {},
   "outputs": [
    {
     "name": "stdout",
     "output_type": "stream",
     "text": [
      "0.9913274787741865\n",
      "predicted  ask_hn  show_hn   story\n",
      "Post Type                         \n",
      "ask_hn       5274        0     180\n",
      "poll            1        0       5\n",
      "show_hn        42     4457     404\n",
      "story         308      250  126294\n"
     ]
    }
   ],
   "source": [
    "print(accuracy)\n",
    "df_confusion = pd.crosstab(testResults['Post Type'], testResults['predicted'])\n",
    "print(df_confusion)"
   ]
  },
  {
   "cell_type": "code",
   "execution_count": 7,
   "metadata": {},
   "outputs": [
    {
     "name": "stdout",
     "output_type": "stream",
     "text": [
      "predicted  ask_hn  show_hn   story  poll  precision    recall  F1_score\n",
      "Post Type                                                              \n",
      "ask_hn       5274        0     180     0   0.937600  0.966997  0.952071\n",
      "poll            1        0       5     0   0.000000  0.000000  0.000000\n",
      "show_hn        42     4457     404     0   0.946888  0.909035  0.927575\n",
      "story         308      250  126294     0   0.995358  0.995601  0.995480\n"
     ]
    },
    {
     "name": "stderr",
     "output_type": "stream",
     "text": [
      "/anaconda3/envs/rz/lib/python3.7/site-packages/ipykernel_launcher.py:12: SettingWithCopyWarning: \n",
      "A value is trying to be set on a copy of a slice from a DataFrame\n",
      "\n",
      "See the caveats in the documentation: http://pandas.pydata.org/pandas-docs/stable/user_guide/indexing.html#returning-a-view-versus-a-copy\n",
      "  if sys.path[0] == '':\n",
      "/anaconda3/envs/rz/lib/python3.7/site-packages/ipykernel_launcher.py:13: SettingWithCopyWarning: \n",
      "A value is trying to be set on a copy of a slice from a DataFrame\n",
      "\n",
      "See the caveats in the documentation: http://pandas.pydata.org/pandas-docs/stable/user_guide/indexing.html#returning-a-view-versus-a-copy\n",
      "  del sys.path[0]\n"
     ]
    }
   ],
   "source": [
    "df_confusion = pd.crosstab(testResults['Post Type'], testResults['predicted'])\n",
    "df_confusion['poll'] = 0\n",
    "df_confusion['precision'] = 0.0\n",
    "df_confusion['recall'] = 0.0\n",
    "#df['F1_score'] = 0.0\n",
    "transpose_matrix = df_confusion.transpose()\n",
    "for i in transpose_matrix.columns:\n",
    "    if np.sum(df_confusion[i])==0:\n",
    "        total = 1\n",
    "    else:\n",
    "        total = np.sum(df_confusion[i])\n",
    "    df_confusion['precision'][i] = df_confusion[i][i]/total\n",
    "    df_confusion['recall'][i] = df_confusion[i][i]/np.sum(transpose_matrix[i])\n",
    "df_confusion['F1_score'] = 2/(1/df_confusion['precision']+1/df_confusion['recall'])\n",
    "print(df_confusion)"
   ]
  }
 ],
 "metadata": {
  "kernelspec": {
   "display_name": "Python 3",
   "language": "python",
   "name": "python3"
  },
  "language_info": {
   "codemirror_mode": {
    "name": "ipython",
    "version": 3
   },
   "file_extension": ".py",
   "mimetype": "text/x-python",
   "name": "python",
   "nbconvert_exporter": "python",
   "pygments_lexer": "ipython3",
   "version": "3.7.4"
  }
 },
 "nbformat": 4,
 "nbformat_minor": 4
}
