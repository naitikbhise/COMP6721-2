{
 "cells": [
  {
   "cell_type": "code",
   "execution_count": 20,
   "metadata": {},
   "outputs": [],
   "source": [
    "import pandas as pd\n",
    "import numpy as np\n",
    "import sklearn\n",
    "import nltk\n",
    "import re"
   ]
  },
  {
   "cell_type": "code",
   "execution_count": 2,
   "metadata": {},
   "outputs": [],
   "source": [
    "data = pd.read_csv(\"hn2018_2019.csv\")"
   ]
  },
  {
   "cell_type": "code",
   "execution_count": 3,
   "metadata": {},
   "outputs": [],
   "source": [
    "def dater(datetim,integer):\n",
    "    date,time = datetim.split(\" \")\n",
    "    year,month,day = date.split(\"-\")\n",
    "    hour,minute,second = time.split(\":\")\n",
    "    second = int(second)+ int(minute)*60 + int(hour)*60*60\n",
    "    if integer==1:\n",
    "        return year\n",
    "    elif integer==2:\n",
    "        return month\n",
    "    elif integer==3:\n",
    "        return day\n",
    "    else:\n",
    "        return second"
   ]
  },
  {
   "cell_type": "code",
   "execution_count": 4,
   "metadata": {},
   "outputs": [],
   "source": [
    "data[\"year\"] = data['Created At'].map(lambda x: dater(x,1))\n",
    "data[\"month\"] = data['Created At'].map(lambda x: dater(x,2))\n",
    "data[\"day\"] = data['Created At'].map(lambda x: dater(x,3))\n",
    "data[\"second\"] = data['Created At'].map(lambda x: dater(x,4))"
   ]
  },
  {
   "cell_type": "code",
   "execution_count": 5,
   "metadata": {},
   "outputs": [],
   "source": [
    "df_2018 = data[data[\"year\"]=='2018']"
   ]
  },
  {
   "cell_type": "code",
   "execution_count": 10,
   "metadata": {},
   "outputs": [
    {
     "name": "stderr",
     "output_type": "stream",
     "text": [
      "/Users/naitikbhise/miniconda3/lib/python3.5/site-packages/ipykernel_launcher.py:1: SettingWithCopyWarning: \n",
      "A value is trying to be set on a copy of a slice from a DataFrame.\n",
      "Try using .loc[row_indexer,col_indexer] = value instead\n",
      "\n",
      "See the caveats in the documentation: http://pandas.pydata.org/pandas-docs/stable/indexing.html#indexing-view-versus-copy\n",
      "  \"\"\"Entry point for launching an IPython kernel.\n"
     ]
    }
   ],
   "source": [
    "df_2018['tokenized_title'] = df_2018['Title'].map(lambda x:re.split('\\[\\^a-zA-Z\\]',x))"
   ]
  },
  {
   "cell_type": "code",
   "execution_count": 12,
   "metadata": {},
   "outputs": [
    {
     "name": "stderr",
     "output_type": "stream",
     "text": [
      "/Users/naitikbhise/miniconda3/lib/python3.5/site-packages/ipykernel_launcher.py:1: SettingWithCopyWarning: \n",
      "A value is trying to be set on a copy of a slice from a DataFrame.\n",
      "Try using .loc[row_indexer,col_indexer] = value instead\n",
      "\n",
      "See the caveats in the documentation: http://pandas.pydata.org/pandas-docs/stable/indexing.html#indexing-view-versus-copy\n",
      "  \"\"\"Entry point for launching an IPython kernel.\n"
     ]
    }
   ],
   "source": [
    "df_2018['Title'] = df_2018['Title'].map(lambda x:x.lower())"
   ]
  },
  {
   "cell_type": "code",
   "execution_count": 29,
   "metadata": {},
   "outputs": [
    {
     "name": "stderr",
     "output_type": "stream",
     "text": [
      "/Users/naitikbhise/miniconda3/lib/python3.5/site-packages/ipykernel_launcher.py:1: SettingWithCopyWarning: \n",
      "A value is trying to be set on a copy of a slice from a DataFrame.\n",
      "Try using .loc[row_indexer,col_indexer] = value instead\n",
      "\n",
      "See the caveats in the documentation: http://pandas.pydata.org/pandas-docs/stable/indexing.html#indexing-view-versus-copy\n",
      "  \"\"\"Entry point for launching an IPython kernel.\n"
     ]
    }
   ],
   "source": [
    "df_2018['tokenized_title'] = df_2018['Title'].map(lambda x:re.split('\\[\\^a-zA-Z\\]',x)[0].split())"
   ]
  },
  {
   "cell_type": "code",
   "execution_count": 30,
   "metadata": {},
   "outputs": [
    {
     "data": {
      "text/html": [
       "<div>\n",
       "<style scoped>\n",
       "    .dataframe tbody tr th:only-of-type {\n",
       "        vertical-align: middle;\n",
       "    }\n",
       "\n",
       "    .dataframe tbody tr th {\n",
       "        vertical-align: top;\n",
       "    }\n",
       "\n",
       "    .dataframe thead th {\n",
       "        text-align: right;\n",
       "    }\n",
       "</style>\n",
       "<table border=\"1\" class=\"dataframe\">\n",
       "  <thead>\n",
       "    <tr style=\"text-align: right;\">\n",
       "      <th></th>\n",
       "      <th>Unnamed: 0</th>\n",
       "      <th>Object ID</th>\n",
       "      <th>Title</th>\n",
       "      <th>Post Type</th>\n",
       "      <th>Author</th>\n",
       "      <th>Created At</th>\n",
       "      <th>URL</th>\n",
       "      <th>Points</th>\n",
       "      <th>Number of Comments</th>\n",
       "      <th>year</th>\n",
       "      <th>month</th>\n",
       "      <th>day</th>\n",
       "      <th>second</th>\n",
       "      <th>tokenized_title</th>\n",
       "    </tr>\n",
       "  </thead>\n",
       "  <tbody>\n",
       "    <tr>\n",
       "      <th>0</th>\n",
       "      <td>2294635</td>\n",
       "      <td>16043786</td>\n",
       "      <td>top hacker news books in 2017</td>\n",
       "      <td>story</td>\n",
       "      <td>0x54MUR41</td>\n",
       "      <td>2018-01-01 00:06:16</td>\n",
       "      <td>https://hackernewsbooks.com/year/2017</td>\n",
       "      <td>1</td>\n",
       "      <td>0.0</td>\n",
       "      <td>2018</td>\n",
       "      <td>01</td>\n",
       "      <td>01</td>\n",
       "      <td>376</td>\n",
       "      <td>[top, hacker, news, books, in, 2017]</td>\n",
       "    </tr>\n",
       "    <tr>\n",
       "      <th>1</th>\n",
       "      <td>2294636</td>\n",
       "      <td>16043817</td>\n",
       "      <td>beijing enjoys best winter air quality in five...</td>\n",
       "      <td>story</td>\n",
       "      <td>gpetukhov</td>\n",
       "      <td>2018-01-01 00:15:13</td>\n",
       "      <td>http://www.scmp.com/news/china/policies-politi...</td>\n",
       "      <td>2</td>\n",
       "      <td>0.0</td>\n",
       "      <td>2018</td>\n",
       "      <td>01</td>\n",
       "      <td>01</td>\n",
       "      <td>913</td>\n",
       "      <td>[beijing, enjoys, best, winter, air, quality, ...</td>\n",
       "    </tr>\n",
       "    <tr>\n",
       "      <th>2</th>\n",
       "      <td>2294637</td>\n",
       "      <td>16043825</td>\n",
       "      <td>ask hn: any domain name registrars that don't ...</td>\n",
       "      <td>ask_hn</td>\n",
       "      <td>glockenspielen</td>\n",
       "      <td>2018-01-01 00:16:54</td>\n",
       "      <td>NaN</td>\n",
       "      <td>1</td>\n",
       "      <td>2.0</td>\n",
       "      <td>2018</td>\n",
       "      <td>01</td>\n",
       "      <td>01</td>\n",
       "      <td>1014</td>\n",
       "      <td>[ask, hn:, any, domain, name, registrars, that...</td>\n",
       "    </tr>\n",
       "    <tr>\n",
       "      <th>3</th>\n",
       "      <td>2294638</td>\n",
       "      <td>16043845</td>\n",
       "      <td>controversial therapy has led to death threats...</td>\n",
       "      <td>story</td>\n",
       "      <td>cpncrunch</td>\n",
       "      <td>2018-01-01 00:23:05</td>\n",
       "      <td>https://www.buzzfeed.com/tomchivers/inside-the...</td>\n",
       "      <td>2</td>\n",
       "      <td>0.0</td>\n",
       "      <td>2018</td>\n",
       "      <td>01</td>\n",
       "      <td>01</td>\n",
       "      <td>1385</td>\n",
       "      <td>[controversial, therapy, has, led, to, death, ...</td>\n",
       "    </tr>\n",
       "    <tr>\n",
       "      <th>4</th>\n",
       "      <td>2294639</td>\n",
       "      <td>16043851</td>\n",
       "      <td>ruby 3x3 – ruby 3 will be 3 times faster – wha...</td>\n",
       "      <td>story</td>\n",
       "      <td>geraldbauer</td>\n",
       "      <td>2018-01-01 00:25:05</td>\n",
       "      <td>https://planetruby.github.io/advent2017/ruby3x3</td>\n",
       "      <td>2</td>\n",
       "      <td>0.0</td>\n",
       "      <td>2018</td>\n",
       "      <td>01</td>\n",
       "      <td>01</td>\n",
       "      <td>1505</td>\n",
       "      <td>[ruby, 3x3, –, ruby, 3, will, be, 3, times, fa...</td>\n",
       "    </tr>\n",
       "  </tbody>\n",
       "</table>\n",
       "</div>"
      ],
      "text/plain": [
       "   Unnamed: 0  Object ID                                              Title  \\\n",
       "0     2294635   16043786                      top hacker news books in 2017   \n",
       "1     2294636   16043817  beijing enjoys best winter air quality in five...   \n",
       "2     2294637   16043825  ask hn: any domain name registrars that don't ...   \n",
       "3     2294638   16043845  controversial therapy has led to death threats...   \n",
       "4     2294639   16043851  ruby 3x3 – ruby 3 will be 3 times faster – wha...   \n",
       "\n",
       "  Post Type          Author           Created At  \\\n",
       "0     story       0x54MUR41  2018-01-01 00:06:16   \n",
       "1     story       gpetukhov  2018-01-01 00:15:13   \n",
       "2    ask_hn  glockenspielen  2018-01-01 00:16:54   \n",
       "3     story       cpncrunch  2018-01-01 00:23:05   \n",
       "4     story     geraldbauer  2018-01-01 00:25:05   \n",
       "\n",
       "                                                 URL  Points  \\\n",
       "0              https://hackernewsbooks.com/year/2017       1   \n",
       "1  http://www.scmp.com/news/china/policies-politi...       2   \n",
       "2                                                NaN       1   \n",
       "3  https://www.buzzfeed.com/tomchivers/inside-the...       2   \n",
       "4    https://planetruby.github.io/advent2017/ruby3x3       2   \n",
       "\n",
       "   Number of Comments  year month day  second  \\\n",
       "0                 0.0  2018    01  01     376   \n",
       "1                 0.0  2018    01  01     913   \n",
       "2                 2.0  2018    01  01    1014   \n",
       "3                 0.0  2018    01  01    1385   \n",
       "4                 0.0  2018    01  01    1505   \n",
       "\n",
       "                                     tokenized_title  \n",
       "0               [top, hacker, news, books, in, 2017]  \n",
       "1  [beijing, enjoys, best, winter, air, quality, ...  \n",
       "2  [ask, hn:, any, domain, name, registrars, that...  \n",
       "3  [controversial, therapy, has, led, to, death, ...  \n",
       "4  [ruby, 3x3, –, ruby, 3, will, be, 3, times, fa...  "
      ]
     },
     "execution_count": 30,
     "metadata": {},
     "output_type": "execute_result"
    }
   ],
   "source": [
    "df_2018.head()"
   ]
  },
  {
   "cell_type": "code",
   "execution_count": 32,
   "metadata": {},
   "outputs": [],
   "source": [
    "def input_phrase(phrase,typ,dict_words):\n",
    "    for i in phrase:\n",
    "        if i not in dict_words:\n",
    "            dict_words[i] = {'story':0,'ask_hn':0,'show_hn':0,'poll':0}\n",
    "        dict_words[i][typ] += 1\n",
    "    return dict_words"
   ]
  },
  {
   "cell_type": "code",
   "execution_count": 55,
   "metadata": {},
   "outputs": [],
   "source": [
    "d = {}\n",
    "num = 0\n",
    "for i in range(len(df_2018['tokenized_title'])):\n",
    "    d = input_phrase(df_2018['tokenized_title'][i],df_2018['Post Type'][i],d)\n",
    "    num += len(df_2018['tokenized_title'][i])"
   ]
  },
  {
   "cell_type": "code",
   "execution_count": 56,
   "metadata": {},
   "outputs": [],
   "source": [
    "words_2018 = pd.DataFrame(d)\n",
    "words_2018 = words_2018.transpose()"
   ]
  },
  {
   "cell_type": "code",
   "execution_count": 57,
   "metadata": {},
   "outputs": [
    {
     "data": {
      "text/html": [
       "<div>\n",
       "<style scoped>\n",
       "    .dataframe tbody tr th:only-of-type {\n",
       "        vertical-align: middle;\n",
       "    }\n",
       "\n",
       "    .dataframe tbody tr th {\n",
       "        vertical-align: top;\n",
       "    }\n",
       "\n",
       "    .dataframe thead th {\n",
       "        text-align: right;\n",
       "    }\n",
       "</style>\n",
       "<table border=\"1\" class=\"dataframe\">\n",
       "  <thead>\n",
       "    <tr style=\"text-align: right;\">\n",
       "      <th></th>\n",
       "      <th>ask_hn</th>\n",
       "      <th>poll</th>\n",
       "      <th>show_hn</th>\n",
       "      <th>story</th>\n",
       "    </tr>\n",
       "  </thead>\n",
       "  <tbody>\n",
       "    <tr>\n",
       "      <th>!</th>\n",
       "      <td>1</td>\n",
       "      <td>0</td>\n",
       "      <td>0</td>\n",
       "      <td>1</td>\n",
       "    </tr>\n",
       "    <tr>\n",
       "      <th>!!</th>\n",
       "      <td>0</td>\n",
       "      <td>0</td>\n",
       "      <td>0</td>\n",
       "      <td>1</td>\n",
       "    </tr>\n",
       "    <tr>\n",
       "      <th>!!`?</th>\n",
       "      <td>0</td>\n",
       "      <td>0</td>\n",
       "      <td>0</td>\n",
       "      <td>1</td>\n",
       "    </tr>\n",
       "    <tr>\n",
       "      <th>!=</th>\n",
       "      <td>0</td>\n",
       "      <td>0</td>\n",
       "      <td>0</td>\n",
       "      <td>6</td>\n",
       "    </tr>\n",
       "    <tr>\n",
       "      <th>!==</th>\n",
       "      <td>0</td>\n",
       "      <td>0</td>\n",
       "      <td>0</td>\n",
       "      <td>1</td>\n",
       "    </tr>\n",
       "  </tbody>\n",
       "</table>\n",
       "</div>"
      ],
      "text/plain": [
       "      ask_hn  poll  show_hn  story\n",
       "!          1     0        0      1\n",
       "!!         0     0        0      1\n",
       "!!`?       0     0        0      1\n",
       "!=         0     0        0      6\n",
       "!==        0     0        0      1"
      ]
     },
     "execution_count": 57,
     "metadata": {},
     "output_type": "execute_result"
    }
   ],
   "source": [
    "words_2018.head()"
   ]
  },
  {
   "cell_type": "code",
   "execution_count": 59,
   "metadata": {},
   "outputs": [],
   "source": [
    "delta = 0.5"
   ]
  },
  {
   "cell_type": "code",
   "execution_count": 42,
   "metadata": {},
   "outputs": [
    {
     "data": {
      "text/plain": [
       "array(['ask_hn', 'poll', 'show_hn', 'story'], dtype=object)"
      ]
     },
     "execution_count": 42,
     "metadata": {},
     "output_type": "execute_result"
    }
   ],
   "source": [
    "words_2018['prob_ask_hn'] = words_2018['ask_hn'].map(lambda x: (int(x)+delta)/(num+delta*len(words_2018)))"
   ]
  },
  {
   "cell_type": "code",
   "execution_count": 48,
   "metadata": {},
   "outputs": [
    {
     "data": {
      "text/plain": [
       "{'ask_hn': 0, 'poll': 25, 'show_hn': 0, 'story': 11}"
      ]
     },
     "execution_count": 48,
     "metadata": {},
     "output_type": "execute_result"
    }
   ],
   "source": [
    "d['poll:']"
   ]
  },
  {
   "cell_type": "code",
   "execution_count": 52,
   "metadata": {},
   "outputs": [],
   "source": [
    "words_2018 = words_2018.transpose()"
   ]
  },
  {
   "cell_type": "code",
   "execution_count": null,
   "metadata": {},
   "outputs": [],
   "source": [
    "words_2018['pr']"
   ]
  }
 ],
 "metadata": {
  "kernelspec": {
   "display_name": "Python 3",
   "language": "python",
   "name": "python3"
  },
  "language_info": {
   "codemirror_mode": {
    "name": "ipython",
    "version": 3
   },
   "file_extension": ".py",
   "mimetype": "text/x-python",
   "name": "python",
   "nbconvert_exporter": "python",
   "pygments_lexer": "ipython3",
   "version": "3.5.6"
  }
 },
 "nbformat": 4,
 "nbformat_minor": 2
}
