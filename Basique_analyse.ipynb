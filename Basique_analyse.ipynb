{
 "cells": [
  {
   "cell_type": "code",
   "execution_count": null,
   "metadata": {},
   "outputs": [],
   "source": [
    "import pandas as pd\n",
    "import numpy as np\n",
    "import sklearn\n",
    "import nltk\n",
    "import re\n",
    "import math"
   ]
  },
  {
   "cell_type": "code",
   "execution_count": null,
   "metadata": {},
   "outputs": [],
   "source": [
    "data = pd.read_csv(\"hn2018_2019.csv\")"
   ]
  },
  {
   "cell_type": "code",
   "execution_count": null,
   "metadata": {},
   "outputs": [],
   "source": [
    "def dater(datetim,integer):\n",
    "    date,time = datetim.split(\" \")\n",
    "    year,month,day = date.split(\"-\")\n",
    "    hour,minute,second = time.split(\":\")\n",
    "    second = int(second)+ int(minute)*60 + int(hour)*60*60\n",
    "    if integer==1:\n",
    "        return year\n",
    "    elif integer==2:\n",
    "        return month\n",
    "    elif integer==3:\n",
    "        return day\n",
    "    else:\n",
    "        return second"
   ]
  },
  {
   "cell_type": "code",
   "execution_count": null,
   "metadata": {},
   "outputs": [],
   "source": [
    "data[\"year\"] = data['Created At'].map(lambda x: dater(x,1))\n",
    "data[\"month\"] = data['Created At'].map(lambda x: dater(x,2))\n",
    "data[\"day\"] = data['Created At'].map(lambda x: dater(x,3))\n",
    "data[\"second\"] = data['Created At'].map(lambda x: dater(x,4))"
   ]
  },
  {
   "cell_type": "code",
   "execution_count": null,
   "metadata": {},
   "outputs": [],
   "source": [
    "df_2018 = data[data[\"year\"]=='2018'][['Title','Post Type']].copy()"
   ]
  },
  {
   "cell_type": "code",
   "execution_count": null,
   "metadata": {},
   "outputs": [],
   "source": [
    "df_2018['Title'] = df_2018['Title'].map(lambda x:x.lower())"
   ]
  },
  {
   "cell_type": "markdown",
   "metadata": {},
   "source": [
    "## Adding a column of tokenized words in the dataframe"
   ]
  },
  {
   "cell_type": "code",
   "execution_count": null,
   "metadata": {},
   "outputs": [],
   "source": [
    "df_2018['tokenized_title'] = df_2018['Title'].map(lambda x:re.split('\\[\\^a-zA-Z\\]',x)[0].split())"
   ]
  },
  {
   "cell_type": "code",
   "execution_count": null,
   "metadata": {},
   "outputs": [],
   "source": [
    "data.head()"
   ]
  },
  {
   "cell_type": "code",
   "execution_count": null,
   "metadata": {},
   "outputs": [],
   "source": [
    "df_2018.head()"
   ]
  },
  {
   "cell_type": "markdown",
   "metadata": {},
   "source": [
    "## Calculating frequency of each word and given their conditional post type"
   ]
  },
  {
   "cell_type": "code",
   "execution_count": null,
   "metadata": {},
   "outputs": [],
   "source": [
    "def input_phrase(phrase,typ,dict_words):\n",
    "    for i in phrase:\n",
    "        if i not in dict_words:\n",
    "            dict_words[i] = {'story':0,'ask_hn':0,'show_hn':0,'poll':0}\n",
    "        dict_words[i][typ] += 1\n",
    "    return dict_words"
   ]
  },
  {
   "cell_type": "code",
   "execution_count": null,
   "metadata": {},
   "outputs": [],
   "source": [
    "d = {}\n",
    "totalNumberOfWords = 0\n",
    "uniqueWords = 0\n",
    "for i in range(len(df_2018['tokenized_title'])):\n",
    "    d = input_phrase(df_2018['tokenized_title'][i],df_2018['Post Type'][i],d)\n",
    "    totalNumberOfWords += len(df_2018['tokenized_title'][i])"
   ]
  },
  {
   "cell_type": "code",
   "execution_count": null,
   "metadata": {},
   "outputs": [],
   "source": [
    "words_2018 = pd.DataFrame(d)\n",
    "words_2018 = words_2018.transpose()\n",
    "delta = 0.5\n",
    "uniqueWords = len(words_2018)\n",
    "absentWordConditionalProbability = {}\n",
    "for className in ['ask_hn', 'poll', 'show_hn', 'story']:\n",
    "    wordsPerClass = np.sum(words_2018[className])\n",
    "    conditionalClassLabel = 'prob_' + className\n",
    "    words_2018[conditionalClassLabel] = words_2018[className].map(lambda x: (int(x) + delta)/( wordsPerClass + delta*uniqueWords ))    \n",
    "    absentWordConditionalProbability[conditionalClassLabel] = delta/( wordsPerClass + delta*uniqueWords )\n",
    "    \n",
    "writeWords2018 = words_2018.copy()\n",
    "words_2018 = words_2018.transpose()"
   ]
  },
  {
   "cell_type": "code",
   "execution_count": null,
   "metadata": {},
   "outputs": [],
   "source": [
    "writeWords2018.index.name = 'TokenName'\n",
    "writeWords2018 = writeWords2018.reset_index()\n",
    "writeWords2018 = writeWords2018.sort_values(by ='TokenName')\n",
    "writeWords2018 = writeWords2018.reset_index()\n",
    "cols = ['TokenName', 'story', 'prob_story', 'ask_hn', 'prob_ask_hn', 'show_hn', 'prob_show_hn', 'poll', 'prob_poll']\n",
    "writeWords2018 = writeWords2018[cols]\n",
    "writeWords2018.index += 1\n",
    "filename = 'model-2018.txt'\n",
    "writeWords2018.to_csv(filename, header = None, index = True, sep = ' ', mode = 'w')\n",
    "with open(filename, 'r') as f:\n",
    "    lines = f.readlines()\n",
    "lines = [line.replace(' ', '  ') for line in lines]\n",
    "with open(filename, 'w') as f:\n",
    "    f.writelines(lines)"
   ]
  },
  {
   "cell_type": "code",
   "execution_count": null,
   "metadata": {},
   "outputs": [],
   "source": [
    "words_2018.head(10)"
   ]
  },
  {
   "cell_type": "markdown",
   "metadata": {},
   "source": [
    "## PART 2"
   ]
  },
  {
   "cell_type": "code",
   "execution_count": null,
   "metadata": {},
   "outputs": [],
   "source": [
    "priorProbabilities = {'prob_story':0,'prob_ask_hn':0,'prob_show_hn':0,'prob_poll':0}\n",
    "unique, counts = np.unique(df_2018['Post Type'], return_counts=True)\n",
    "for index in range(len(unique)):\n",
    "    priorProbabilities['prob_' + unique[index]] = counts[index]/np.sum(counts)\n",
    "print(priorProbabilities)"
   ]
  },
  {
   "cell_type": "code",
   "execution_count": null,
   "metadata": {},
   "outputs": [],
   "source": [
    "conditionalProbabilities = words_2018.drop(['story', 'poll', 'show_hn', 'ask_hn'])\n",
    "conditionalProbabilities.head(10)"
   ]
  },
  {
   "cell_type": "code",
   "execution_count": null,
   "metadata": {},
   "outputs": [],
   "source": [
    "def getConditionalProbability(word,className):\n",
    "    try:\n",
    "        return conditionalProbabilities[word][className]\n",
    "    except:\n",
    "        return absentWordConditionalProbability[className]"
   ]
  },
  {
   "cell_type": "code",
   "execution_count": null,
   "metadata": {},
   "outputs": [],
   "source": [
    "def generateScore(arrayOfTokenizedTitle,className):\n",
    "    score = np.zeros(len(arrayOfTokenizedTitle)) + math.log10(priorProbabilities[className])\n",
    "    for index in range(len(arrayOfTokenizedTitle)):\n",
    "        wordsList = arrayOfTokenizedTitle[index]\n",
    "        for word in wordsList:\n",
    "            score[index] += math.log10(getConditionalProbability(word,className))\n",
    "    return score"
   ]
  },
  {
   "cell_type": "code",
   "execution_count": null,
   "metadata": {},
   "outputs": [],
   "source": [
    "testData = data[data[\"year\"]=='2019'][['Title','Post Type']].copy()\n",
    "testData['Title'] = testData['Title'].map(lambda x:x.lower())\n",
    "testData['tokenized_title'] = testData['Title'].map(lambda x:re.split('\\[\\^a-zA-Z\\]',x)[0].split())\n",
    "testData = testData.reset_index()"
   ]
  },
  {
   "cell_type": "code",
   "execution_count": null,
   "metadata": {},
   "outputs": [],
   "source": [
    "testData.head()"
   ]
  },
  {
   "cell_type": "code",
   "execution_count": null,
   "metadata": {},
   "outputs": [],
   "source": [
    "for className in priorProbabilities.keys():\n",
    "    testData[className] = generateScore(testData['tokenized_title'],className)\n",
    "testData.head()"
   ]
  },
  {
   "cell_type": "code",
   "execution_count": null,
   "metadata": {},
   "outputs": [],
   "source": [
    "columnNamesExchange = {}\n",
    "for className in ['ask_hn', 'poll', 'show_hn', 'story']:\n",
    "    columnNamesExchange['prob_' + className] = className\n",
    "dfObj = testData[['prob_ask_hn', 'prob_poll', 'prob_show_hn', 'prob_story']].copy()\n",
    "dfObj = dfObj.rename(columns=columnNamesExchange)\n",
    "dfObj['predicted'] = dfObj.idxmax(axis=1)\n",
    "dfObj = pd.concat([dfObj, testData[['Title', 'Post Type']]], axis=1)\n",
    "dfObj['comparision'] = dfObj['predicted'] == dfObj['Post Type']\n",
    "cols = ['Title', 'story', 'ask_hn', 'show_hn', 'poll', 'Post Type', 'comparision']\n",
    "dfObj = dfObj[cols]\n",
    "dfObj.head()"
   ]
  },
  {
   "cell_type": "code",
   "execution_count": null,
   "metadata": {},
   "outputs": [],
   "source": [
    "filename = 'result.txt'\n",
    "dfObj.to_csv(filename, header = None, index = False, sep = ' ', mode = 'w')\n",
    "with open(filename, 'r') as f:\n",
    "    lines = f.readlines()\n",
    "lines = [line.replace(' ', '  ') for line in lines]\n",
    "with open(filename, 'w') as f:\n",
    "    f.writelines(lines)"
   ]
  },
  {
   "cell_type": "code",
   "execution_count": null,
   "metadata": {},
   "outputs": [],
   "source": [
    "dfObj.comparision.value_counts()"
   ]
  },
  {
   "cell_type": "code",
   "execution_count": null,
   "metadata": {},
   "outputs": [],
   "source": []
  }
 ],
 "metadata": {
  "kernelspec": {
   "display_name": "Python 3",
   "language": "python",
   "name": "python3"
  },
  "language_info": {
   "codemirror_mode": {
    "name": "ipython",
    "version": 3
   },
   "file_extension": ".py",
   "mimetype": "text/x-python",
   "name": "python",
   "nbconvert_exporter": "python",
   "pygments_lexer": "ipython3",
   "version": "3.7.4"
  }
 },
 "nbformat": 4,
 "nbformat_minor": 4
}
