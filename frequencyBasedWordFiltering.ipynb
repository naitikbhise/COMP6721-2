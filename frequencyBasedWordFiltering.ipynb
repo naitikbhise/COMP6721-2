{
 "cells": [
  {
   "cell_type": "code",
   "execution_count": null,
   "metadata": {},
   "outputs": [],
   "source": [
    "import sklearn\n",
    "import nltk\n",
    "\n",
    "from generateWordFrequency import *\n",
    "from naiveBayes import *\n",
    "from fileWriteFunctions import *"
   ]
  },
  {
   "cell_type": "code",
   "execution_count": null,
   "metadata": {},
   "outputs": [],
   "source": [
    "AllClasses = ['story', 'ask_hn', 'show_hn', 'poll']\n",
    "delta = 0.5\n",
    "appendClassPrefix = 'prob_'"
   ]
  },
  {
   "cell_type": "code",
   "execution_count": null,
   "metadata": {},
   "outputs": [],
   "source": [
    "trainData = getDataframe(2018)\n",
    "trainData = addTokenizedColumnofTitle(trainData,None,False)\n",
    "trainWords = getWordFrequencyDataframe(trainData,AllClasses)"
   ]
  },
  {
   "cell_type": "raw",
   "metadata": {},
   "source": [
    "import docx\n",
    "with open('Stopwords.txt', 'w') as the_file:\n",
    "    doc = docx.Document('Stopwords.docx')\n",
    "    for i in doc.paragraphs:\n",
    "        the_file.write(i.text + '\\n')\n",
    "filename = 'Stopwords.txt'\n",
    "with open (filename, \"r\") as myfile:\n",
    "    data = myfile.readlines()\n",
    "filteredWordList = [word[0:-1] for word in data if len(word[0:-1])]"
   ]
  },
  {
   "cell_type": "raw",
   "metadata": {},
   "source": [
    "filteredWordList = getWordListBasedOnCount(trainWords,maxCount = 1)"
   ]
  },
  {
   "cell_type": "code",
   "execution_count": null,
   "metadata": {},
   "outputs": [],
   "source": [
    "filteredWordList = getWordListBasedOnPercent(trainWords,Percent = 25)"
   ]
  },
  {
   "cell_type": "code",
   "execution_count": null,
   "metadata": {},
   "outputs": [],
   "source": [
    "trainData = addTokenizedColumnofTitle(trainData,filteredWordList,False)\n",
    "trainWords = getWordFrequencyDataframe(trainData,AllClasses)"
   ]
  },
  {
   "cell_type": "code",
   "execution_count": null,
   "metadata": {},
   "outputs": [],
   "source": [
    "priorProbabilities = getPriorProbabilities(trainData)\n",
    "trainWords = obtainDataframeWithClassProbabilities(trainWords, AllClasses, delta, appendClassPrefix)\n",
    "trainWords = renameModelRows(trainWords, AllClasses, appendClassPrefix)\n",
    "model = [trainWords, priorProbabilities]"
   ]
  },
  {
   "cell_type": "code",
   "execution_count": null,
   "metadata": {},
   "outputs": [],
   "source": [
    "testData = getDataframe(2019)\n",
    "testData = addTokenizedColumnofTitle(testData,filteredWordList,False)\n",
    "testData = testData.reset_index()\n",
    "testData = generateCondClassProb(testData, model)\n",
    "testResults = comparePredictions(testData,AllClasses)\n",
    "writeDataframe(testResults,'wordlength-result.txt')\n",
    "check = testResults.comparision.value_counts()\n",
    "accuracy = check[True]/(check[True]+check[False])\n",
    "print(accuracy)"
   ]
  }
 ],
 "metadata": {
  "kernelspec": {
   "display_name": "Python 3",
   "language": "python",
   "name": "python3"
  },
  "language_info": {
   "codemirror_mode": {
    "name": "ipython",
    "version": 3
   },
   "file_extension": ".py",
   "mimetype": "text/x-python",
   "name": "python",
   "nbconvert_exporter": "python",
   "pygments_lexer": "ipython3",
   "version": "3.6.9"
  }
 },
 "nbformat": 4,
 "nbformat_minor": 4
}
