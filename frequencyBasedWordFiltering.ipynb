{
 "cells": [
  {
   "cell_type": "code",
   "execution_count": null,
   "metadata": {},
   "outputs": [],
   "source": [
    "import sklearn\n",
    "import nltk\n",
    "\n",
    "from generateWordFrequency import *\n",
    "from naiveBayes import *\n",
    "from fileWriteFunctions import *"
   ]
  },
  {
   "cell_type": "code",
   "execution_count": null,
   "metadata": {},
   "outputs": [],
   "source": [
    "AllClasses = ['story', 'ask_hn', 'show_hn', 'poll']\n",
    "delta = 0.5\n",
    "appendClassPrefix = 'prob_'"
   ]
  },
  {
   "cell_type": "code",
   "execution_count": null,
   "metadata": {},
   "outputs": [],
   "source": [
    "df_2018 = getDataframe(2018)"
   ]
  },
  {
   "cell_type": "code",
   "execution_count": null,
   "metadata": {},
   "outputs": [],
   "source": [
    "df_2018 = addTokenizedColumnofTitle(df_2018,None,False)"
   ]
  },
  {
   "cell_type": "code",
   "execution_count": null,
   "metadata": {},
   "outputs": [],
   "source": [
    "words_2018 = getWordFrequencyDataframe(df_2018,AllClasses)"
   ]
  },
  {
   "cell_type": "code",
   "execution_count": null,
   "metadata": {},
   "outputs": [],
   "source": [
    "words_2018.head()"
   ]
  },
  {
   "cell_type": "code",
   "execution_count": null,
   "metadata": {},
   "outputs": [],
   "source": [
    "stopWordList = getWordListBasedOnPercent(words_2018,Percent = 25)\n",
    "print(stopWordList[0],len(stopWordList))"
   ]
  },
  {
   "cell_type": "code",
   "execution_count": null,
   "metadata": {},
   "outputs": [],
   "source": [
    "df_2018 = addTokenizedColumnofTitle(df_2018,stopWordList,False)\n",
    "words_2018 = getWordFrequencyDataframe(df_2018,AllClasses)\n",
    "words_2018.head()"
   ]
  },
  {
   "cell_type": "code",
   "execution_count": null,
   "metadata": {},
   "outputs": [],
   "source": [
    "df_2018.head()"
   ]
  },
  {
   "cell_type": "code",
   "execution_count": null,
   "metadata": {},
   "outputs": [],
   "source": [
    "priorProbabilities = getPriorProbabilities(df_2018)\n",
    "words_2018 = obtainDataframeWithClassProbabilities(words_2018, AllClasses, delta, appendClassPrefix)\n",
    "writeModel(words_2018,'wordlength-model.txt',AllClasses,appendClassPrefix)\n",
    "words_2018 = renameModelRows(words_2018, AllClasses, appendClassPrefix)\n",
    "model = [words_2018, priorProbabilities]"
   ]
  },
  {
   "cell_type": "code",
   "execution_count": null,
   "metadata": {},
   "outputs": [],
   "source": [
    "testData = getDataframe(2019)\n",
    "testData = addTokenizedColumnofTitle(testData,stopWordList,False)\n",
    "testData = testData.reset_index()\n",
    "testData = generateCondClassProb(testData, model)\n",
    "testData['predicted'] = generatePrediction(testData,AllClasses)\n",
    "testResults = comparePredictions(testData,AllClasses)\n",
    "writeDataframe(testResults,'wordlength-result.txt')\n",
    "check = testResults.comparision.value_counts()\n",
    "accuracy = check[True]/(check[True]+check[False])\n",
    "print(accuracy)\n",
    "df_confusion = pd.crosstab(testResults['Post Type'], testResults['predicted'])\n",
    "df_confusion['poll'] = 0\n",
    "print(df_confusion)\n",
    "df_confusion['precision'] = 0.0\n",
    "df_confusion['recall'] = 0.0\n",
    "#df['F1_score'] = 0.0\n",
    "transpose_matrix = df_confusion.transpose()\n",
    "for i in transpose_matrix.columns:\n",
    "    if np.sum(df_confusion[i])==0:\n",
    "        total = 1\n",
    "    else:\n",
    "        total = np.sum(df_confusion[i])\n",
    "    df_confusion['precision'][i] = df_confusion[i][i]/total\n",
    "    df_confusion['recall'][i] = df_confusion[i][i]/np.sum(transpose_matrix[i])\n",
    "df_confusion['F1_score'] = 2/(1/df_confusion['precision']+1/df_confusion['recall'])\n",
    "print(df_confusion)"
   ]
  },
  {
   "cell_type": "code",
   "execution_count": null,
   "metadata": {},
   "outputs": [],
   "source": []
  }
 ],
 "metadata": {
  "kernelspec": {
   "display_name": "Python 3",
   "language": "python",
   "name": "python3"
  },
  "language_info": {
   "codemirror_mode": {
    "name": "ipython",
    "version": 3
   },
   "file_extension": ".py",
   "mimetype": "text/x-python",
   "name": "python",
   "nbconvert_exporter": "python",
   "pygments_lexer": "ipython3",
   "version": "3.6.9"
  }
 },
 "nbformat": 4,
 "nbformat_minor": 4
}
