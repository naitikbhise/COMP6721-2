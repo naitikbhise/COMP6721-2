{
 "cells": [
  {
   "cell_type": "code",
   "execution_count": 1,
   "metadata": {},
   "outputs": [],
   "source": [
    "import sklearn\n",
    "import nltk\n",
    "\n",
    "from generateWordFrequency import *\n",
    "from naiveBayes import *\n",
    "from fileWriteFunctions import *"
   ]
  },
  {
   "cell_type": "code",
   "execution_count": 2,
   "metadata": {},
   "outputs": [],
   "source": [
    "AllClasses = ['story', 'ask_hn', 'show_hn', 'poll']\n",
    "delta = 0.5\n",
    "appendClassPrefix = 'prob_'"
   ]
  },
  {
   "cell_type": "code",
   "execution_count": 3,
   "metadata": {},
   "outputs": [],
   "source": [
    "unfilteredTrainData = getDataframe(2018)\n",
    "unfilteredTrainData = addTokenizedColumnofTitle(unfilteredTrainData)"
   ]
  },
  {
   "cell_type": "code",
   "execution_count": 4,
   "metadata": {},
   "outputs": [],
   "source": [
    "unfilteredTestData = getDataframe(2019)\n",
    "unfilteredTestData = addTokenizedColumnofTitle(unfilteredTestData)\n",
    "unfilteredTestData = unfilteredTestData.reset_index()"
   ]
  },
  {
   "cell_type": "raw",
   "metadata": {},
   "source": [
    "import docx\n",
    "with open('Stopwords.txt', 'w') as the_file:\n",
    "    doc = docx.Document('Stopwords.docx')\n",
    "    for i in doc.paragraphs:\n",
    "        the_file.write(i.text + '\\n')"
   ]
  },
  {
   "cell_type": "code",
   "execution_count": 5,
   "metadata": {},
   "outputs": [],
   "source": [
    "filename = 'Stopwords.txt'\n",
    "with open (filename, \"r\") as myfile:\n",
    "    data = myfile.readlines()\n",
    "filteredWordList = [word[0:-1] for word in data if len(word[0:-1])]"
   ]
  },
  {
   "cell_type": "code",
   "execution_count": 8,
   "metadata": {},
   "outputs": [],
   "source": [
    "trainData = filterTokensByWordList(unfilteredTrainData.copy(),filteredWordList)\n",
    "testData = filterTokensByWordList(unfilteredTestData.copy(),filteredWordList)\n",
    "\n",
    "trainWords = getWordFrequencyDataframe(trainData,AllClasses)\n",
    "priorProbabilities = getPriorProbabilities(trainData) \n",
    "\n",
    "trainWords = getWordFrequencyDataframe(trainData,AllClasses)\n",
    "trainWords = obtainDataframeWithClassProbabilities(trainWords, AllClasses, delta, appendClassPrefix)\n",
    "writeModel(trainWords,'stopword-model.txt',AllClasses,appendClassPrefix)\n",
    "trainWords = renameModelRows(trainWords, AllClasses, appendClassPrefix)\n",
    "model = [trainWords, priorProbabilities]\n",
    "\n",
    "testData = generateCondClassProb(testData, model)\n",
    "testData['predicted'] = generatePrediction(testData,AllClasses)\n",
    "testResults = comparePredictions(testData,AllClasses)\n",
    "writeDataframe(testResults,'stopword-result.txt')\n",
    "check = testResults.comparision.value_counts()\n",
    "accuracy = check[True]/(check[True]+check[False])"
   ]
  },
  {
   "cell_type": "code",
   "execution_count": 19,
   "metadata": {},
   "outputs": [
    {
     "name": "stdout",
     "output_type": "stream",
     "text": [
      "0.9898480486827242\n",
      "predicted  ask_hn  show_hn   story\n",
      "Post Type                         \n",
      "ask_hn       5422        4      28\n",
      "poll            1        0       5\n",
      "show_hn        58     4720     125\n",
      "story         421      751  125680\n"
     ]
    }
   ],
   "source": [
    "print(accuracy)\n",
    "df_confusion = pd.crosstab(testResults['Post Type'], testResults['predicted'])\n",
    "print(df_confusion)"
   ]
  }
 ],
 "metadata": {
  "kernelspec": {
   "display_name": "Python 3",
   "language": "python",
   "name": "python3"
  },
  "language_info": {
   "codemirror_mode": {
    "name": "ipython",
    "version": 3
   },
   "file_extension": ".py",
   "mimetype": "text/x-python",
   "name": "python",
   "nbconvert_exporter": "python",
   "pygments_lexer": "ipython3",
   "version": "3.6.9"
  }
 },
 "nbformat": 4,
 "nbformat_minor": 4
}
