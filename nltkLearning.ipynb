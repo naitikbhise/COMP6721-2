{
 "cells": [
  {
   "cell_type": "code",
   "execution_count": null,
   "metadata": {},
   "outputs": [],
   "source": [
    "import nltk\n",
    "wordnet_lemmatizer = nltk.stem.WordNetLemmatizer()\n",
    "from nltk.corpus import wordnet as wn"
   ]
  },
  {
   "cell_type": "code",
   "execution_count": null,
   "metadata": {},
   "outputs": [],
   "source": [
    "import numpy as np\n",
    "import sklearn\n",
    "import nltk\n",
    "\n",
    "from generateWordFrequency import *\n",
    "from naiveBayes import *\n",
    "from fileWriteFunctions import *"
   ]
  },
  {
   "cell_type": "code",
   "execution_count": null,
   "metadata": {},
   "outputs": [],
   "source": [
    "def penn_to_wn(tag):\n",
    "    nltk_wn_pos = {'J':wn.ADJ,'V':wn.VERB,'N':wn.NOUN,'R':wn.ADV}\n",
    "    try:\n",
    "        return nltk_wn_pos[tag[0]]\n",
    "    except:\n",
    "        return None"
   ]
  },
  {
   "cell_type": "code",
   "execution_count": null,
   "metadata": {},
   "outputs": [],
   "source": [
    "df_2018 = getDataframe(2018)"
   ]
  },
  {
   "cell_type": "markdown",
   "metadata": {},
   "source": [
    "1. lowercase\n",
    "2. tokenize with pos\n",
    "3. remove punctuations\n",
    "4. combine NNs"
   ]
  },
  {
   "cell_type": "code",
   "execution_count": null,
   "metadata": {},
   "outputs": [],
   "source": [
    "def penn_to_wn(tag):\n",
    "    nltk_wn_pos = {'J':wn.ADJ,'V':wn.VERB,'N':wn.NOUN,'R':wn.ADV}\n",
    "    try:\n",
    "        return nltk_wn_pos[tag[0]]\n",
    "    except:\n",
    "        return None\n",
    "def checkPunctuation(word):\n",
    "    punctuations = ['!', '\"', '#', '$', '%', '&', \"'\", '(', ')', '*', '+', ',', '-', '.', '/','”','“','–',\"'s\",\n",
    "                ':', ';', '<', '=', '>', '?', '@', '[', '\\\\', ']', '^', '_', '`', '{', '|', '}', '~']\n",
    "    if word in punctuations:\n",
    "        return True\n",
    "    else:\n",
    "        return False\n",
    "def tokenizeSentence(sentence):\n",
    "    tokenized = []\n",
    "    text = nltk.word_tokenize(sentence.lower())\n",
    "    print(nltk.pos_tag(text))\n",
    "    for word,pos in nltk.pos_tag(text):\n",
    "        if checkPunctuation(word):\n",
    "            continue\n",
    "        tag = penn_to_wn(pos)\n",
    "        if tag is None:\n",
    "            lemmatizedWord = word\n",
    "        else:\n",
    "            lemmatizedWord = wordnet_lemmatizer.lemmatize(word,tag)\n",
    "        tokenized.append(lemmatizedWord)\n",
    "    return tokenized"
   ]
  },
  {
   "cell_type": "code",
   "execution_count": null,
   "metadata": {},
   "outputs": [],
   "source": [
    "print(tokenizeSentence('Data Science is a subject I chose Computer Science as my major Ask_HN'))"
   ]
  },
  {
   "cell_type": "code",
   "execution_count": null,
   "metadata": {},
   "outputs": [],
   "source": [
    "for sent in df_2018['Title'][np.random.randint(len(df_2018), size=10)]:\n",
    "    print(sent)\n",
    "    print(tokenizeSentence(sent))"
   ]
  },
  {
   "cell_type": "code",
   "execution_count": null,
   "metadata": {},
   "outputs": [],
   "source": [
    "def sentence_split(sentence):\n",
    "    text = nltk.word_tokenize(sentence)\n",
    "    pos_text = nltk.pos_tag(text)\n",
    "    new_text = []\n",
    "    grab = False\n",
    "    lemmatizedWord = None\n",
    "    for word,pos in pos_text:\n",
    "        print(word,pos)\n",
    "        tag = penn_to_wn(pos)\n",
    "        \n",
    "        if pos == 'NNP' and grab == True:\n",
    "            grab = False\n",
    "            #print(word)\n",
    "            if word.isalpha():\n",
    "                lemmatizedWord += \" \" + wordnet_lemmatizer.lemmatize(word,tag)\n",
    "                new_text.append(lemmatizedWord.lower())\n",
    "            lemmatizedWord = None\n",
    "        elif pos == 'NNP' and grab == False:\n",
    "            if word.isalpha():\n",
    "                lemmatizedWord = wordnet_lemmatizer.lemmatize(word,tag)\n",
    "                grab = True\n",
    "            #print(grab)\n",
    "        elif pos != 'NNP':\n",
    "            if lemmatizedWord:\n",
    "                new_text.append(lemmatizedWord.lower())\n",
    "                grab = False\n",
    "            if tag is None:\n",
    "                lemmatizedWord = word\n",
    "            else:\n",
    "                lemmatizedWord = wordnet_lemmatizer.lemmatize(word,tag)\n",
    "            if lemmatizedWord or pos=='JJ': \n",
    "                new_text.append(lemmatizedWord.lower())\n",
    "            lemmatizedWord = None\n",
    "            grab = False\n",
    "    return new_text"
   ]
  },
  {
   "cell_type": "code",
   "execution_count": null,
   "metadata": {},
   "outputs": [],
   "source": []
  },
  {
   "cell_type": "code",
   "execution_count": null,
   "metadata": {},
   "outputs": [],
   "source": [
    "sentence_split(\"Ask HN: Any domain name registrars that don't require JavaScript?\")"
   ]
  },
  {
   "cell_type": "code",
   "execution_count": null,
   "metadata": {},
   "outputs": [],
   "source": [
    "sentence_split(\"Ruby 3x3 – Ruby 3 Will Be 3 Times Faster – What's News?\".lower())"
   ]
  },
  {
   "cell_type": "code",
   "execution_count": null,
   "metadata": {},
   "outputs": [],
   "source": [
    "string = \"Computer Science\"\n",
    "string_2 = \"–\""
   ]
  },
  {
   "cell_type": "code",
   "execution_count": null,
   "metadata": {},
   "outputs": [],
   "source": [
    "string_2.isalpha()"
   ]
  },
  {
   "cell_type": "code",
   "execution_count": null,
   "metadata": {},
   "outputs": [],
   "source": [
    "string_2.isnumeric()"
   ]
  },
  {
   "cell_type": "code",
   "execution_count": null,
   "metadata": {},
   "outputs": [],
   "source": [
    "def sentence_split(sentence):\n",
    "    text = nltk.word_tokenize(sentence)\n",
    "    pos_text = nltk.pos_tag(text)\n",
    "    new_text = []\n",
    "    grab = False\n",
    "    lemmatizedWord = None\n",
    "    for word,pos in pos_text:\n",
    "        #print(word)\n",
    "        #print(pos)\n",
    "        tag = penn_to_wn(pos)\n",
    "        if pos == 'NNP' and grab == True:\n",
    "            grab = False\n",
    "            #print(word)\n",
    "            lemmatizedWord += \" \" + wordnet_lemmatizer.lemmatize(word,tag)\n",
    "            new_text.append(lemmatizedWord.lower())\n",
    "            lemmatizedWord = None\n",
    "        elif pos == 'NNP' and grab == False:\n",
    "            lemmatizedWord = wordnet_lemmatizer.lemmatize(word,tag)\n",
    "            grab = True\n",
    "            #print(grab)\n",
    "        elif pos != 'NNP':\n",
    "            if lemmatizedWord:\n",
    "                if lemmatizedWord.isalpha():\n",
    "                    new_text.append(lemmatizedWord.lower())\n",
    "            if tag is None:\n",
    "                lemmatizedWord = word\n",
    "            else:\n",
    "                lemmatizedWord = wordnet_lemmatizer.lemmatize(word,tag)\n",
    "            if lemmatizedWord.isalpha() or pos=='JJ':\n",
    "                if word.isalpha():\n",
    "                    new_text.append(lemmatizedWord.lower())\n",
    "            lemmatizedWord = None\n",
    "            grab = False\n",
    "    return new_text\n"
   ]
  },
  {
   "cell_type": "code",
   "execution_count": null,
   "metadata": {},
   "outputs": [],
   "source": [
    "text = nltk.word_tokenize(\"Ruby 3x3 – Ruby 3 Will Be 3 Times Faster Tesla-based – What's News?\".lower())\n",
    "print(text)\n",
    "print(nltk.pos_tag(text))"
   ]
  },
  {
   "cell_type": "code",
   "execution_count": null,
   "metadata": {},
   "outputs": [],
   "source": []
  }
 ],
 "metadata": {
  "kernelspec": {
   "display_name": "Python 3",
   "language": "python",
   "name": "python3"
  },
  "language_info": {
   "codemirror_mode": {
    "name": "ipython",
    "version": 3
   },
   "file_extension": ".py",
   "mimetype": "text/x-python",
   "name": "python",
   "nbconvert_exporter": "python",
   "pygments_lexer": "ipython3",
   "version": "3.6.9"
  }
 },
 "nbformat": 4,
 "nbformat_minor": 4
}
