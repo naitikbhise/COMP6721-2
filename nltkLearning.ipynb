{
 "cells": [
  {
   "cell_type": "code",
   "execution_count": 16,
   "metadata": {},
   "outputs": [
    {
     "name": "stderr",
     "output_type": "stream",
     "text": [
      "[nltk_data] Downloading package averaged_perceptron_tagger to\n",
      "[nltk_data]     /home/fracton/nltk_data...\n",
      "[nltk_data]   Package averaged_perceptron_tagger is already up-to-\n",
      "[nltk_data]       date!\n",
      "[nltk_data] Downloading package wordnet to /home/fracton/nltk_data...\n",
      "[nltk_data]   Package wordnet is already up-to-date!\n"
     ]
    }
   ],
   "source": [
    "import nltk\n",
    "nltk.download('averaged_perceptron_tagger')\n",
    "nltk.download('wordnet')\n",
    "wordnet_lemmatizer = nltk.stem.WordNetLemmatizer()"
   ]
  },
  {
   "cell_type": "code",
   "execution_count": 10,
   "metadata": {},
   "outputs": [],
   "source": [
    "from nltk.corpus import wordnet as wn\n",
    "\n",
    "def is_noun(tag):\n",
    "    return tag in ['NN', 'NNS', 'NNP', 'NNPS']\n",
    "\n",
    "\n",
    "def is_verb(tag):\n",
    "    return tag in ['VB', 'VBD', 'VBG', 'VBN', 'VBP', 'VBZ']\n",
    "\n",
    "\n",
    "def is_adverb(tag):\n",
    "    return tag in ['RB', 'RBR', 'RBS']\n",
    "\n",
    "\n",
    "def is_adjective(tag):\n",
    "    return tag in ['JJ', 'JJR', 'JJS']\n",
    "\n",
    "\n",
    "def penn_to_wn(tag):\n",
    "    if is_adjective(tag):\n",
    "        return wn.ADJ\n",
    "    elif is_noun(tag):\n",
    "        return wn.NOUN\n",
    "    elif is_adverb(tag):\n",
    "        return wn.ADV\n",
    "    elif is_verb(tag):\n",
    "        return wn.VERB\n",
    "    return None"
   ]
  },
  {
   "cell_type": "code",
   "execution_count": 26,
   "metadata": {},
   "outputs": [
    {
     "name": "stdout",
     "output_type": "stream",
     "text": [
      "['Computer', 'is', 'a', 'better', 'subject', 'consisting', 'of', 'streams', 'like', 'Information', 'Technology', 'and', 'Data', 'Science']\n",
      "[('Computer', 'NNP'), ('is', 'VBZ'), ('a', 'DT'), ('better', 'JJR'), ('subject', 'JJ'), ('consisting', 'NN'), ('of', 'IN'), ('streams', 'NNS'), ('like', 'IN'), ('Information', 'NNP'), ('Technology', 'NNP'), ('and', 'CC'), ('Data', 'NNP'), ('Science', 'NNP')]\n"
     ]
    }
   ],
   "source": [
    "text = nltk.word_tokenize(\"Computer Science is a better but a  subject\")\n",
    "print(text)\n",
    "print(nltk.pos_tag(text))"
   ]
  },
  {
   "cell_type": "code",
   "execution_count": 35,
   "metadata": {},
   "outputs": [
    {
     "name": "stdout",
     "output_type": "stream",
     "text": [
      "Computer NNP n Computer\n",
      "is VBZ v be\n",
      "a DT None a\n",
      "better JJR a good\n",
      "subject JJ a subject\n",
      "consisting NN n consisting\n",
      "of IN None of\n",
      "streams NNS n stream\n",
      "like IN None like\n",
      "Information NNP n Information\n",
      "Technology NNP n Technology\n",
      "and CC None and\n",
      "Data NNP n Data\n",
      "Science NNP n Science\n"
     ]
    }
   ],
   "source": [
    "for word,pos in nltk.pos_tag(text):\n",
    "    tag = penn_to_wn(pos)\n",
    "    if tag is None:\n",
    "        lemmatizedWord = word\n",
    "    else:\n",
    "        lemmatizedWord = wordnet_lemmatizer.lemmatize(word,tag)\n",
    "    print(word,pos,tag,lemmatizedWord)"
   ]
  },
  {
   "cell_type": "code",
   "execution_count": 58,
   "metadata": {},
   "outputs": [],
   "source": [
    "def sentence_split(sentence):\n",
    "    text = nltk.word_tokenize(sentence)\n",
    "    pos_text = nltk.pos_tag(text)\n",
    "    new_text = []\n",
    "    grab = False\n",
    "    for word,pos in pos_text:\n",
    "        #print(word)\n",
    "        #print(pos)\n",
    "        tag = penn_to_wn(pos)\n",
    "        if pos == 'NNP' and grab == True:\n",
    "            grab = False\n",
    "            #print(word)\n",
    "            lemmatizedWord += \" \" + wordnet_lemmatizer.lemmatize(word,tag)\n",
    "            new_text.append(lemmatizedWord)\n",
    "            lemmatizedWord = None\n",
    "        elif pos == 'NNP' and grab == False:\n",
    "            lemmatizedWord = wordnet_lemmatizer.lemmatize(word,tag)\n",
    "            grab = True\n",
    "            #print(grab)\n",
    "        elif pos != 'NNP':\n",
    "            if lemmatizedWord:\n",
    "                new_text.append(lemmatizedWord)\n",
    "            if tag is None:\n",
    "                lemmatizedWord = word\n",
    "            else:\n",
    "                lemmatizedWord = wordnet_lemmatizer.lemmatize(word,tag)\n",
    "            new_text.append(lemmatizedWord)\n",
    "            lemmatizedWord = None\n",
    "            grab = False\n",
    "    return new_text"
   ]
  },
  {
   "cell_type": "code",
   "execution_count": 62,
   "metadata": {},
   "outputs": [
    {
     "data": {
      "text/plain": [
       "['Computer Science',\n",
       " 'be',\n",
       " 'a',\n",
       " 'good',\n",
       " 'subject',\n",
       " 'consisting',\n",
       " 'of',\n",
       " 'stream',\n",
       " 'like',\n",
       " 'Information Technology',\n",
       " ',',\n",
       " 'Networks',\n",
       " ',',\n",
       " 'Telecommunications',\n",
       " 'and',\n",
       " 'Data Science']"
      ]
     },
     "execution_count": 62,
     "metadata": {},
     "output_type": "execute_result"
    }
   ],
   "source": [
    "sentence_split(\"Computer Science is a better subject consisting of streams like Information Technology, Networks, Telecommunications and Data Science\")"
   ]
  },
  {
   "cell_type": "code",
   "execution_count": 65,
   "metadata": {},
   "outputs": [
    {
     "data": {
      "text/plain": [
       "['Computer Science', 'be', 'a', 'good', 'but', 'a', 'daunting', 'subject']"
      ]
     },
     "execution_count": 65,
     "metadata": {},
     "output_type": "execute_result"
    }
   ],
   "source": [
    "sentence_split(\"Computer Science is a better but a daunting subject\")"
   ]
  },
  {
   "cell_type": "code",
   "execution_count": null,
   "metadata": {},
   "outputs": [],
   "source": []
  }
 ],
 "metadata": {
  "kernelspec": {
   "display_name": "Python 3",
   "language": "python",
   "name": "python3"
  },
  "language_info": {
   "codemirror_mode": {
    "name": "ipython",
    "version": 3
   },
   "file_extension": ".py",
   "mimetype": "text/x-python",
   "name": "python",
   "nbconvert_exporter": "python",
   "pygments_lexer": "ipython3",
   "version": "3.7.0"
  }
 },
 "nbformat": 4,
 "nbformat_minor": 4
}
