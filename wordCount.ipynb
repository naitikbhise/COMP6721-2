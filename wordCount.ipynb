{
 "cells": [
  {
   "cell_type": "code",
   "execution_count": 1,
   "metadata": {},
   "outputs": [],
   "source": [
    "import sklearn\n",
    "import nltk\n",
    "\n",
    "from generateWordFrequency import *\n",
    "from naiveBayes import *\n",
    "from fileWriteFunctions import *"
   ]
  },
  {
   "cell_type": "code",
   "execution_count": 2,
   "metadata": {},
   "outputs": [],
   "source": [
    "AllClasses = ['story', 'ask_hn', 'show_hn', 'poll']\n",
    "delta = 0.5\n",
    "appendClassPrefix = 'prob_'"
   ]
  },
  {
   "cell_type": "code",
   "execution_count": 3,
   "metadata": {},
   "outputs": [],
   "source": [
    "unfilteredTrainData = getDataframe(2018)\n",
    "unfilteredTrainData = addTokenizedColumnofTitle(unfilteredTrainData)"
   ]
  },
  {
   "cell_type": "code",
   "execution_count": 4,
   "metadata": {},
   "outputs": [],
   "source": [
    "unfilteredTestData = getDataframe(2019)\n",
    "unfilteredTestData = addTokenizedColumnofTitle(unfilteredTestData)\n",
    "unfilteredTestData = unfilteredTestData.reset_index()"
   ]
  },
  {
   "cell_type": "code",
   "execution_count": 5,
   "metadata": {},
   "outputs": [
    {
     "name": "stdout",
     "output_type": "stream",
     "text": [
      "1 0.9710017126407463 40751\n",
      "5 0.9649309477826769 17297\n",
      "10 0.9647997667893452 11684\n",
      "15 0.9654848230878548 9187\n",
      "20 0.9662281820500674 7710\n"
     ]
    }
   ],
   "source": [
    "accuracies = []\n",
    "VocabularySize = []\n",
    "for count in [1,5,10,15,20]:\n",
    "\n",
    "    trainWords = getWordFrequencyDataframe(unfilteredTrainData,AllClasses)\n",
    "    filteredWordList = getWordListBasedOnCount(trainWords,maxCount = count)\n",
    "    \n",
    "    trainData = filterTokensByWordList(unfilteredTrainData.copy(),filteredWordList)\n",
    "    trainWords = getWordFrequencyDataframe(trainData,AllClasses)\n",
    "    priorProbabilities = getPriorProbabilities(trainData)    \n",
    "    \n",
    "    trainWords = getWordFrequencyDataframe(trainData,AllClasses)\n",
    "    trainWords = obtainDataframeWithClassProbabilities(trainWords, AllClasses, delta, appendClassPrefix)\n",
    "    trainWords = renameModelRows(trainWords, AllClasses, appendClassPrefix)\n",
    "    model = [trainWords, priorProbabilities]\n",
    "    \n",
    "    testData = filterTokensByWordList(unfilteredTestData.copy(),filteredWordList)\n",
    "    \n",
    "    testData = generateCondClassProb(testData, model)\n",
    "    testData['predicted'] = generatePrediction(testData,AllClasses)\n",
    "    testResults = comparePredictions(testData,AllClasses)\n",
    "    check = testResults.comparision.value_counts()\n",
    "    accuracy = check[True]/(check[True]+check[False])\n",
    "    \n",
    "    accuracies.append(accuracy)\n",
    "    VocabularySize.append(len(trainWords.columns))\n",
    "    print(count,accuracy,len(trainWords.columns))"
   ]
  },
  {
   "cell_type": "code",
   "execution_count": 7,
   "metadata": {},
   "outputs": [
    {
     "data": {
      "image/png": "[encoded data removed]",
      "text/plain": [
       "<Figure size 432x288 with 1 Axes>"
      ]
     },
     "metadata": {
      "needs_background": "light"
     },
     "output_type": "display_data"
    }
   ],
   "source": [
    "import matplotlib.pyplot as plt\n",
    "%matplotlib inline  \n",
    "plt.scatter(VocabularySize, accuracies, marker='*',\n",
    "           s=10, facecolor='blue')\n",
    "plt.xlabel('Vocubalary Size')\n",
    "plt.ylabel('Test Accuracy')\n",
    "plt.title('Filtering based on WordCount')\n",
    "plt.show()"
   ]
  },
  {
   "cell_type": "code",
   "execution_count": null,
   "metadata": {},
   "outputs": [],
   "source": []
  }
 ],
 "metadata": {
  "kernelspec": {
   "display_name": "Python 3",
   "language": "python",
   "name": "python3"
  },
  "language_info": {
   "codemirror_mode": {
    "name": "ipython",
    "version": 3
   },
   "file_extension": ".py",
   "mimetype": "text/x-python",
   "name": "python",
   "nbconvert_exporter": "python",
   "pygments_lexer": "ipython3",
   "version": "3.6.9"
  }
 },
 "nbformat": 4,
 "nbformat_minor": 4
}
