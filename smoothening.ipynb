{
 "cells": [
  {
   "cell_type": "code",
   "execution_count": 1,
   "metadata": {},
   "outputs": [],
   "source": [
    "import sklearn\n",
    "import nltk\n",
    "\n",
    "from generateWordFrequency import *\n",
    "from naiveBayes import *\n",
    "from fileWriteFunctions import *"
   ]
  },
  {
   "cell_type": "code",
   "execution_count": 2,
   "metadata": {},
   "outputs": [],
   "source": [
    "AllClasses = ['story', 'ask_hn', 'show_hn', 'poll']\n",
    "delta = 0.5\n",
    "appendClassPrefix = 'prob_'"
   ]
  },
  {
   "cell_type": "code",
   "execution_count": 3,
   "metadata": {},
   "outputs": [],
   "source": [
    "trainData = getDataframe(2018)\n",
    "trainData = addTokenizedColumnofTitle(trainData)\n",
    "priorProbabilities = getPriorProbabilities(trainData)"
   ]
  },
  {
   "cell_type": "code",
   "execution_count": 4,
   "metadata": {},
   "outputs": [],
   "source": [
    "testData = getDataframe(2019)\n",
    "testData = addTokenizedColumnofTitle(testData)\n",
    "testData = testData.reset_index()"
   ]
  },
  {
   "cell_type": "code",
   "execution_count": 5,
   "metadata": {},
   "outputs": [
    {
     "data": {
      "text/html": [
       "<div>\n",
       "<style scoped>\n",
       "    .dataframe tbody tr th:only-of-type {\n",
       "        vertical-align: middle;\n",
       "    }\n",
       "\n",
       "    .dataframe tbody tr th {\n",
       "        vertical-align: top;\n",
       "    }\n",
       "\n",
       "    .dataframe thead th {\n",
       "        text-align: right;\n",
       "    }\n",
       "</style>\n",
       "<table border=\"1\" class=\"dataframe\">\n",
       "  <thead>\n",
       "    <tr style=\"text-align: right;\">\n",
       "      <th></th>\n",
       "      <th>index</th>\n",
       "      <th>Title</th>\n",
       "      <th>Post Type</th>\n",
       "      <th>Number of Comments</th>\n",
       "      <th>Points</th>\n",
       "      <th>Author</th>\n",
       "      <th>tokenized_title</th>\n",
       "    </tr>\n",
       "  </thead>\n",
       "  <tbody>\n",
       "    <tr>\n",
       "      <th>0</th>\n",
       "      <td>276981</td>\n",
       "      <td>The Tech That Was Fixed in 2018 and the Tech T...</td>\n",
       "      <td>story</td>\n",
       "      <td>0.0</td>\n",
       "      <td>3</td>\n",
       "      <td>MagicPropmaker</td>\n",
       "      <td>[the, tech, that, be, fix, in, 2018, and, the,...</td>\n",
       "    </tr>\n",
       "    <tr>\n",
       "      <th>1</th>\n",
       "      <td>276982</td>\n",
       "      <td>Why Is the Google Podcasts App Failing So Hard?</td>\n",
       "      <td>story</td>\n",
       "      <td>0.0</td>\n",
       "      <td>4</td>\n",
       "      <td>wenbin</td>\n",
       "      <td>[why, be, the, google, podcast, app, fail, so,...</td>\n",
       "    </tr>\n",
       "    <tr>\n",
       "      <th>2</th>\n",
       "      <td>276983</td>\n",
       "      <td>Doing Dishes Is the Worst</td>\n",
       "      <td>story</td>\n",
       "      <td>0.0</td>\n",
       "      <td>2</td>\n",
       "      <td>paulpauper</td>\n",
       "      <td>[do, dish, be, the, bad]</td>\n",
       "    </tr>\n",
       "    <tr>\n",
       "      <th>3</th>\n",
       "      <td>276984</td>\n",
       "      <td>Setting Up a MongoDB Replica Set with Docker a...</td>\n",
       "      <td>story</td>\n",
       "      <td>0.0</td>\n",
       "      <td>1</td>\n",
       "      <td>tugberk</td>\n",
       "      <td>[set, up, a, mongodb, replica, set, with, dock...</td>\n",
       "    </tr>\n",
       "    <tr>\n",
       "      <th>4</th>\n",
       "      <td>276985</td>\n",
       "      <td>History favors co-operation and non-zero sum g...</td>\n",
       "      <td>story</td>\n",
       "      <td>0.0</td>\n",
       "      <td>3</td>\n",
       "      <td>asimjalis</td>\n",
       "      <td>[history, favor, co-operation, and, non-zero, ...</td>\n",
       "    </tr>\n",
       "  </tbody>\n",
       "</table>\n",
       "</div>"
      ],
      "text/plain": [
       "    index                                              Title Post Type  \\\n",
       "0  276981  The Tech That Was Fixed in 2018 and the Tech T...     story   \n",
       "1  276982    Why Is the Google Podcasts App Failing So Hard?     story   \n",
       "2  276983                          Doing Dishes Is the Worst     story   \n",
       "3  276984  Setting Up a MongoDB Replica Set with Docker a...     story   \n",
       "4  276985  History favors co-operation and non-zero sum g...     story   \n",
       "\n",
       "   Number of Comments  Points          Author  \\\n",
       "0                 0.0       3  MagicPropmaker   \n",
       "1                 0.0       4          wenbin   \n",
       "2                 0.0       2      paulpauper   \n",
       "3                 0.0       1         tugberk   \n",
       "4                 0.0       3       asimjalis   \n",
       "\n",
       "                                     tokenized_title  \n",
       "0  [the, tech, that, be, fix, in, 2018, and, the,...  \n",
       "1  [why, be, the, google, podcast, app, fail, so,...  \n",
       "2                           [do, dish, be, the, bad]  \n",
       "3  [set, up, a, mongodb, replica, set, with, dock...  \n",
       "4  [history, favor, co-operation, and, non-zero, ...  "
      ]
     },
     "execution_count": 5,
     "metadata": {},
     "output_type": "execute_result"
    }
   ],
   "source": [
    "testData.head()"
   ]
  },
  {
   "cell_type": "code",
   "execution_count": 6,
   "metadata": {},
   "outputs": [
    {
     "name": "stdout",
     "output_type": "stream",
     "text": [
      "0.0 0.9423751047625989\n",
      "0.1 0.965586852749335\n",
      "0.2 0.971234923295558\n",
      "0.30000000000000004 0.9759355755566083\n",
      "0.4 0.9796523703676712\n",
      "0.5 0.9826112305505957\n",
      "0.6000000000000001 0.9852785774150057\n",
      "0.7000000000000001 0.9872608679809058\n",
      "0.8 0.9884779360857049\n",
      "0.9 0.9896002623619866\n",
      "1.0 0.9902343038297562\n"
     ]
    }
   ],
   "source": [
    "accuracies = []\n",
    "for delta in 0.1*np.arange(0,11):\n",
    "    trainWords = getWordFrequencyDataframe(trainData,AllClasses)\n",
    "    trainWords = obtainDataframeWithClassProbabilities(trainWords, AllClasses, delta, appendClassPrefix)\n",
    "    trainWords = renameModelRows(trainWords, AllClasses, appendClassPrefix)\n",
    "    model = [trainWords, priorProbabilities]\n",
    "    \n",
    "    testData = generateCondClassProb(testData, model)\n",
    "    testData['predicted'] = generatePrediction(testData,AllClasses)\n",
    "    testResults = comparePredictions(testData,AllClasses)\n",
    "    check = testResults.comparision.value_counts()\n",
    "    accuracy = check[True]/(check[True]+check[False])\n",
    "    accuracies.append(accuracy)\n",
    "    print(delta,accuracy)"
   ]
  },
  {
   "cell_type": "code",
   "execution_count": 7,
   "metadata": {},
   "outputs": [
    {
     "data": {
      "image/png": "[encoded data removed]",
      "text/plain": [
       "<Figure size 432x288 with 1 Axes>"
      ]
     },
     "metadata": {
      "needs_background": "light"
     },
     "output_type": "display_data"
    }
   ],
   "source": [
    "import matplotlib.pyplot as plt\n",
    "%matplotlib inline  \n",
    "plt.scatter(0.1*np.arange(0,11), accuracies, marker='*',\n",
    "           s=10, facecolor='blue')\n",
    "plt.xlabel('Smoothening Factor')\n",
    "plt.ylabel('Test Accuracy')\n",
    "plt.show()"
   ]
  }
 ],
 "metadata": {
  "kernelspec": {
   "display_name": "Python 3",
   "language": "python",
   "name": "python3"
  },
  "language_info": {
   "codemirror_mode": {
    "name": "ipython",
    "version": 3
   },
   "file_extension": ".py",
   "mimetype": "text/x-python",
   "name": "python",
   "nbconvert_exporter": "python",
   "pygments_lexer": "ipython3",
   "version": "3.6.9"
  }
 },
 "nbformat": 4,
 "nbformat_minor": 4
}
