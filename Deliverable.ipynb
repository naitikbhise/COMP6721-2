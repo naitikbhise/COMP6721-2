{
 "cells": [
  {
   "cell_type": "code",
   "execution_count": 1,
   "metadata": {},
   "outputs": [],
   "source": [
    "import sklearn\n",
    "import matplotlib.pyplot as plt\n",
    "%matplotlib inline\n",
    "\n",
    "from generateWordFrequency import *\n",
    "from naiveBayes import *\n",
    "from fileWriteFunctions import *"
   ]
  },
  {
   "cell_type": "code",
   "execution_count": 2,
   "metadata": {},
   "outputs": [],
   "source": [
    "def drawPlot(X,Y,xlabel,ylabel,title):\n",
    "    plt.figure()\n",
    "    plt.scatter(X, Y, marker='*',\n",
    "           s=10, facecolor='blue')\n",
    "    plt.xlabel(xlabel)\n",
    "    plt.ylabel(ylabel)\n",
    "    plt.title(title)\n",
    "    plt.show()"
   ]
  },
  {
   "cell_type": "markdown",
   "metadata": {},
   "source": [
    "## COMMON DATA LOADING "
   ]
  },
  {
   "cell_type": "code",
   "execution_count": 3,
   "metadata": {},
   "outputs": [],
   "source": [
    "AllClasses = ['story', 'ask_hn', 'show_hn', 'poll']\n",
    "appendClassPrefix = 'prob_'\n",
    "\n",
    "unfilteredTrainData = getDataframe(2018)\n",
    "unfilteredTrainData = addTokenizedColumnofTitle(unfilteredTrainData)\n",
    "\n",
    "unfilteredTestData = getDataframe(2019)\n",
    "unfilteredTestData = addTokenizedColumnofTitle(unfilteredTestData)\n",
    "unfilteredTestData = unfilteredTestData.reset_index()"
   ]
  },
  {
   "cell_type": "code",
   "execution_count": 6,
   "metadata": {},
   "outputs": [],
   "source": [
    "def generateModel(trainData, delta, filename = 'temp-model.txt'):\n",
    "    priorProbabilities = getPriorProbabilities(trainData)\n",
    "    trainWords = getWordFrequencyDataframe(trainData,AllClasses)\n",
    "    trainWords = obtainDataframeWithClassProbabilities(trainWords, AllClasses, delta, appendClassPrefix)\n",
    "    writeModel(trainWords,filename,AllClasses,appendClassPrefix)\n",
    "    trainWords = renameModelRows(trainWords, AllClasses, appendClassPrefix)\n",
    "    model = [trainWords, priorProbabilities]\n",
    "    return model\n",
    "\n",
    "def testModel(testData, model, filename = 'temp-results.txt'):\n",
    "    testData = generateCondClassProb(testData, model)\n",
    "    testData['predicted'] = generatePrediction(testData,AllClasses)\n",
    "    testResults = comparePredictions(testData,AllClasses)\n",
    "    writeDataframe(testResults,filename)\n",
    "    check = testResults.comparision.value_counts()\n",
    "    accuracy = check[True]/(check[True]+check[False])\n",
    "    return accuracy"
   ]
  },
  {
   "cell_type": "markdown",
   "metadata": {},
   "source": [
    "## TASK 1:  Extract the data and build the model"
   ]
  },
  {
   "cell_type": "code",
   "execution_count": 7,
   "metadata": {},
   "outputs": [],
   "source": [
    "trainData = unfilteredTrainData.copy()\n",
    "model = generateModel(trainData, 0.5, 'model-2018.txt')"
   ]
  },
  {
   "cell_type": "markdown",
   "metadata": {},
   "source": [
    "## TASK 2: Use ML Classifier to test dataset"
   ]
  },
  {
   "cell_type": "code",
   "execution_count": 8,
   "metadata": {},
   "outputs": [
    {
     "name": "stdout",
     "output_type": "stream",
     "text": [
      "accuracy: 0.9913784936049266\n"
     ]
    }
   ],
   "source": [
    "testData = unfilteredTestData.copy()\n",
    "accuracy = testModel(testData, model, 'baseline-result.txt')\n",
    "print('accuracy:',accuracy)"
   ]
  },
  {
   "cell_type": "markdown",
   "metadata": {},
   "source": [
    "## Task 3: Experiments with the classifier"
   ]
  },
  {
   "cell_type": "markdown",
   "metadata": {},
   "source": [
    "### EXP 3.1:  Stop-word Filtering"
   ]
  },
  {
   "cell_type": "code",
   "execution_count": 9,
   "metadata": {},
   "outputs": [
    {
     "name": "stdout",
     "output_type": "stream",
     "text": [
      "0.9953212112378385\n"
     ]
    }
   ],
   "source": [
    "filename = 'Stopwords.txt'\n",
    "with open (filename, \"r\") as myfile:\n",
    "    data = myfile.readlines()\n",
    "filteredWordList = [word[0:-1] for word in data if len(word[0:-1])]\n",
    "trainData = filterTokensByWordList(unfilteredTrainData.copy(),filteredWordList)\n",
    "testData = filterTokensByWordList(unfilteredTestData.copy(),filteredWordList)\n",
    "model = generateModel(trainData, 0.5, 'stopword-model.txt')\n",
    "accuracy = testModel(testData, model, 'stopword-result.txt')\n",
    "print(accuracy)"
   ]
  },
  {
   "cell_type": "markdown",
   "metadata": {},
   "source": [
    "### EXP 3.2:   Word Length Filtering"
   ]
  },
  {
   "cell_type": "code",
   "execution_count": 10,
   "metadata": {},
   "outputs": [
    {
     "name": "stdout",
     "output_type": "stream",
     "text": [
      "0.989971941843093\n"
     ]
    }
   ],
   "source": [
    "trainData = filterTokensByWordLength(unfilteredTrainData.copy())\n",
    "testData = filterTokensByWordLength(unfilteredTestData.copy())\n",
    "model = generateModel(trainData, 0.5, 'wordlength-model.txt')\n",
    "accuracy = testModel(testData, model, 'wordlength-result.txt')\n",
    "print(accuracy)"
   ]
  },
  {
   "cell_type": "markdown",
   "metadata": {},
   "source": [
    "### EXP 3.3: Infrequent Word Filtering"
   ]
  },
  {
   "cell_type": "markdown",
   "metadata": {},
   "source": [
    "#### 3.3.1 COUNT BASED"
   ]
  },
  {
   "cell_type": "code",
   "execution_count": 11,
   "metadata": {},
   "outputs": [
    {
     "name": "stdout",
     "output_type": "stream",
     "text": [
      "1 0.9781146376125059 64569\n",
      "5 0.966308348212659 19193\n",
      "10 0.966417665707102 11745\n",
      "15 0.9671245855045002 8828\n",
      "20 0.9679335349633786 7209\n"
     ]
    },
    {
     "data": {
      "image/png": "[encoded data removed]",
      "text/plain": [
       "<Figure size 432x288 with 1 Axes>"
      ]
     },
     "metadata": {
      "needs_background": "light"
     },
     "output_type": "display_data"
    }
   ],
   "source": [
    "accuracies = []\n",
    "VocabularySize = []\n",
    "for count in [1,5,10,15,20]:\n",
    "    trainWords = getWordFrequencyDataframe(unfilteredTrainData,AllClasses)\n",
    "    filteredWordList = getWordListBasedOnCount(trainWords,maxCount = count)    \n",
    "    trainData = filterTokensByWordList(unfilteredTrainData.copy(),filteredWordList)\n",
    "    testData = filterTokensByWordList(unfilteredTestData.copy(),filteredWordList)\n",
    "    model = generateModel(trainData, 0.5)\n",
    "    accuracy = testModel(testData, model)\n",
    "    vocabSize = len(model[0].columns)    \n",
    "    accuracies.append(accuracy)\n",
    "    VocabularySize.append(vocabSize)\n",
    "    print(count,accuracy,vocabSize)\n",
    "drawPlot(VocabularySize,accuracies,'Vocubalary Size','Test Accuracy','Filtering based on WordCount')"
   ]
  },
  {
   "cell_type": "markdown",
   "metadata": {},
   "source": [
    "#### 3.3.2 TOP X % FREQUENT WORDS"
   ]
  },
  {
   "cell_type": "code",
   "execution_count": 12,
   "metadata": {},
   "outputs": [
    {
     "name": "stdout",
     "output_type": "stream",
     "text": [
      "5 0.9247239733265313 209665\n",
      "10 0.9245855045002369 198630\n",
      "15 0.9244907626717196 187595\n",
      "20 0.9245053383376453 176560\n",
      "25 0.9244543235069053 165525\n"
     ]
    },
    {
     "data": {
      "image/png": "[encoded data removed]",
      "text/plain": [
       "<Figure size 432x288 with 1 Axes>"
      ]
     },
     "metadata": {
      "needs_background": "light"
     },
     "output_type": "display_data"
    }
   ],
   "source": [
    "accuracies = []\n",
    "VocabularySize = []\n",
    "for percent in [5,10,15,20,25]:\n",
    "    trainWords = getWordFrequencyDataframe(unfilteredTrainData,AllClasses)\n",
    "    filteredWordList = getWordListBasedOnPercent(trainWords,Percent = percent)\n",
    "    trainData = filterTokensByWordList(unfilteredTrainData.copy(),filteredWordList)\n",
    "    testData = filterTokensByWordList(unfilteredTestData.copy(),filteredWordList)\n",
    "    model = generateModel(trainData, 0.5)\n",
    "    accuracy = testModel(testData, model)\n",
    "    vocabSize = len(model[0].columns)    \n",
    "    accuracies.append(accuracy)\n",
    "    VocabularySize.append(vocabSize)\n",
    "    print(percent,accuracy,vocabSize)\n",
    "drawPlot(VocabularySize,accuracies,'Vocubalary Size','Test Accuracy','Filtering based on Top x% Frequent Words')"
   ]
  },
  {
   "cell_type": "markdown",
   "metadata": {},
   "source": [
    "### EXP 3.3: Delta Smoothening"
   ]
  },
  {
   "cell_type": "code",
   "execution_count": 13,
   "metadata": {},
   "outputs": [
    {
     "data": {
      "image/png": "[encoded data removed]",
      "text/plain": [
       "<Figure size 432x288 with 1 Axes>"
      ]
     },
     "metadata": {
      "needs_background": "light"
     },
     "output_type": "display_data"
    }
   ],
   "source": [
    "accuracies = []\n",
    "Deltas = 0.1*np.arange(0,11)\n",
    "for delta in Deltas:\n",
    "    trainData = unfilteredTrainData.copy()\n",
    "    testData = unfilteredTestData.copy()    \n",
    "    model = generateModel(trainData, delta)\n",
    "    accuracy = testModel(testData, model)    \n",
    "    accuracies.append(accuracy)\n",
    "drawPlot(Deltas,accuracies,'Delta Values','Test Accuracy','Smoothening Factor')"
   ]
  },
  {
   "cell_type": "code",
   "execution_count": null,
   "metadata": {},
   "outputs": [],
   "source": []
  }
 ],
 "metadata": {
  "kernelspec": {
   "display_name": "Python 3",
   "language": "python",
   "name": "python3"
  },
  "language_info": {
   "codemirror_mode": {
    "name": "ipython",
    "version": 3
   },
   "file_extension": ".py",
   "mimetype": "text/x-python",
   "name": "python",
   "nbconvert_exporter": "python",
   "pygments_lexer": "ipython3",
   "version": "3.6.9"
  }
 },
 "nbformat": 4,
 "nbformat_minor": 4
}
